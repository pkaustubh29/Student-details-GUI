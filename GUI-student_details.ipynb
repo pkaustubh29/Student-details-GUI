{
 "cells": [
  {
   "cell_type": "code",
   "execution_count": 1,
   "id": "434b6aa5",
   "metadata": {},
   "outputs": [],
   "source": [
    "# import openpyxl and tkinter modules \n",
    "from openpyxl import *\n",
    "from tkinter import *"
   ]
  },
  {
   "cell_type": "code",
   "execution_count": 2,
   "id": "5e28d50d",
   "metadata": {},
   "outputs": [],
   "source": [
    "# globally declare wb and sheet variable \n",
    "wb = load_workbook(\"wb.xlsx.xlsx\")\n",
    "sheet = wb.active\n",
    "\n",
    "# Creating functions to set focus\n",
    "def focus0(event):\n",
    "    name_field.focus_set()\n",
    "def focus1(event):\n",
    "    course_field.focus_set()\n",
    "def focus2(event):\n",
    "    sem_field.focus_set()\n",
    "def focus3(event):\n",
    "    form_no_field.focus_set()\n",
    "def focus4(event):\n",
    "    contact_no_field.focus_set()\n",
    "def focus5(event):\n",
    "    email_id_field.focus_set()\n",
    "def focus6(event):\n",
    "    address_field.focus_set()"
   ]
  },
  {
   "cell_type": "code",
   "execution_count": 3,
   "id": "254726b2",
   "metadata": {},
   "outputs": [],
   "source": [
    "# To clear the content of text boxes\n",
    "def clear():\n",
    "    name_field.delete(0, END)\n",
    "    course_field.delete(0, END)\n",
    "    sem_field.delete(0, END)\n",
    "    form_no_field.delete(0, END)\n",
    "    contact_no_field.delete(0, END)\n",
    "    email_id_field.delete(0, END)\n",
    "    address_field.delete(0, END)"
   ]
  },
  {
   "cell_type": "code",
   "execution_count": 4,
   "id": "6b763bb8",
   "metadata": {},
   "outputs": [],
   "source": [
    "# Function to send data from GUI to excel file\n",
    "def insert():\n",
    "    if (name_field.get()==\"\"and\n",
    "    course_field.get()==\"\"and\n",
    "    sem_field.get()==\"\"and\n",
    "    form_no_field.get()==\"\"and\n",
    "    contact_no_field.get()==\"\"and\n",
    "    email_id_field.get()==\"\"and\n",
    "    address_field.get()==\"\"):\n",
    "        print(\"Empty Field\")\n",
    "    else:\n",
    "        # assigning the maximun row and maximum column value\n",
    "        # upto which data is written in an excel sheet to the variable\n",
    "        current_row = sheet.max_row\n",
    "        current_column = sheet.max_column\n",
    "        # get method returns current text as string which we write into         \n",
    "        # excel spreadsheet at particular location \n",
    "        sheet.cell(row=current_row + 1, column=1).value = name_field.get()\n",
    "        sheet.cell(row=current_row + 1, column=2).value = course_field.get()\n",
    "        sheet.cell(row=current_row + 1, column=3).value = sem_field.get()\n",
    "        sheet.cell(row=current_row + 1, column=4).value = form_no_field.get()\n",
    "        sheet.cell(row=current_row + 1, column=5).value = contact_no_field.get()\n",
    "        sheet.cell(row=current_row + 1, column=6).value = email_id_field.get()\n",
    "        sheet.cell(row=current_row + 1, column=7).value = address_field.get()\n",
    "        wb.save(\"wb.xlsx\")\n",
    "        name_field.focus_set()\n",
    "        clear()"
   ]
  },
  {
   "cell_type": "code",
   "execution_count": 5,
   "id": "c24b4ed9",
   "metadata": {},
   "outputs": [],
   "source": [
    "# Driver code\n",
    "if __name__ == \"__main__\":\n",
    "    #Create a gui window\n",
    "    root = Tk()\n",
    "    root.title(\"Registration Form\")\n",
    "    root.geometry(\"400x170\")\n",
    "    #Creating Labels\n",
    "    heading = Label(root, text=\"Form\", bg= \"grey\")\n",
    "    name = Label(root, text= \"Name\", bg=\"light grey\")\n",
    "    course = Label(root,text= \"Course\", bg=\"light grey\")\n",
    "    sem = Label(root,text= \"Semester\", bg= \"light grey\")\n",
    "    form_no = Label(root, text= \"Form N0.\", bg= \"light grey\")\n",
    "    contact_no = Label(root, text= \"Contact Number\", bg = \"light grey\")\n",
    "    email_id = Label(root, text= \"Email-ID\",bg=\"light grey\")\n",
    "    address = Label(root, text= \"Address\", bg = \"light grey\")\n",
    "    "
   ]
  },
  {
   "cell_type": "code",
   "execution_count": 6,
   "id": "d9ce8f2e",
   "metadata": {},
   "outputs": [],
   "source": [
    "    # grid method is used for placing the widgets at respective positions\n",
    "    # in table like structure .   \n",
    "    name.grid(row=1, column=0)\n",
    "    course.grid(row=2, column=0)\n",
    "    sem.grid(row=3, column=0)\n",
    "    form_no.grid(row=4, column=0)\n",
    "    contact_no.grid(row=5, column=0)\n",
    "    email_id.grid(row=6, column=0)\n",
    "    address.grid(row=7, column=0)\n",
    "    name_field = Entry(root)\n",
    "    course_field=Entry(root)\n",
    "    sem_field=Entry(root)\n",
    "    form_no_field=Entry(root)\n",
    "    contact_no_field=Entry(root)\n",
    "    email_id_field=Entry(root)\n",
    "    address_field=Entry(root)\n",
    "    name_field.bind(\"&lt;Return&gt;\",focus0)\n",
    "    course_field.bind(\"&lt;Return&gt;\",focus1)\n",
    "    sem_field.bind(\"&lt;Return&gt;\", focus2)\n",
    "    form_no_field.bind(\"&lt;Return&gt;\", focus3)\n",
    "    contact_no_field.bind(\"&lt;Return&gt;\",focus4)\n",
    "    email_id_field.bind(\"&lt;Return&gt;\", focus5)\n",
    "    address_field.bind(\"&lt;Return&gt;\", focus6)\n",
    "    name_field.grid(row=1, column=1, ipadx=\"100\")\n",
    "course_field.grid(row=2, column=1, ipadx=\"100\")\n",
    "sem_field.grid(row=3, column=1, ipadx=\"100\")\n",
    "form_no_field.grid(row=4, column=1, ipadx=\"100\")\n",
    "contact_no_field.grid(row=5, column=1, ipadx=\"100\")\n",
    "email_id_field.grid(row=6, column=1, ipadx=\"100\")\n",
    "address_field.grid(row=7, column=1, ipadx=\"100\")\n",
    "\n",
    "submit = Button(root, text=\"Submit\", fg=\"Black\",bg=\"blue\", command=insert)\n",
    "submit.grid(row=8, column=1)\n",
    "root.mainloop()\n",
    "#Output"
   ]
  },
  {
   "cell_type": "code",
   "execution_count": null,
   "id": "d4cb1b78",
   "metadata": {},
   "outputs": [],
   "source": []
  }
 ],
 "metadata": {
  "kernelspec": {
   "display_name": "Python 3 (ipykernel)",
   "language": "python",
   "name": "python3"
  },
  "language_info": {
   "codemirror_mode": {
    "name": "ipython",
    "version": 3
   },
   "file_extension": ".py",
   "mimetype": "text/x-python",
   "name": "python",
   "nbconvert_exporter": "python",
   "pygments_lexer": "ipython3",
   "version": "3.9.7"
  }
 },
 "nbformat": 4,
 "nbformat_minor": 5
}
